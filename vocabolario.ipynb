{
 "cells": [
  {
   "cell_type": "code",
   "execution_count": 1,
   "metadata": {},
   "outputs": [],
   "source": [
    "with open('paroleNonInteressanti.txt', 'r') as nnInteressanti:\n",
    "    nnI = nnInteressanti.readlines()\n",
    "    nnI = [n.strip() for n in nnI]\n",
    "\n",
    "with open('pignasco.txt', 'r') as pignasco:\n",
    "    PG = pignasco.readlines()\n",
    "    PG = [p.strip() for p in PG]\n",
    "    PGlemmi=[p for p in PG if p != '']\n",
    "\n",
    "with open('italiano-pignasco.txt', 'r') as itpi:\n",
    "    ITPGlist = itpi.readlines()\n",
    "    ITPG={}\n",
    "    for line in ITPGlist:\n",
    "        due=line.split(' | ')\n",
    "        ITPG[due[0].strip()]=due[1].strip()\n",
    "\n",
    "with open('italiano.txt', 'r') as italiano:\n",
    "    ITraw = italiano.readlines()\n",
    "    IT = ITraw\n",
    "    IT = [i.strip() for i in IT]\n",
    "    IT = list(set(IT)-set(nnI))\n",
    "    IT = list(set(IT)-set(ITPG.keys()))\n",
    "    "
   ]
  },
  {
   "cell_type": "code",
   "execution_count": 2,
   "metadata": {},
   "outputs": [],
   "source": [
    "import random\n",
    "nword=10\n",
    "\n",
    "todaywords=[]\n",
    "todayIndexs=[]\n",
    "for i in range(nword):\n",
    "    rand=random.randint(0, len(IT)-1)\n",
    "    todayIndexs.append(rand)\n",
    "    todaywords.append(IT[rand])"
   ]
  },
  {
   "cell_type": "code",
   "execution_count": 3,
   "metadata": {},
   "outputs": [
    {
     "name": "stdout",
     "output_type": "stream",
     "text": [
      "parola 0    pirosseno\n",
      "parola 1    salgo\n",
      "parola 2    sventolamento\n",
      "parola 3    fioccato\n",
      "parola 4    giuggiolo\n",
      "parola 5    incarnito\n",
      "parola 6    mesenterite\n",
      "parola 7    bell'emigrato\n",
      "parola 8    memorietta\n",
      "parola 9    radiodiffondere\n"
     ]
    }
   ],
   "source": [
    "toMantain=[]\n",
    "iToChange = list(set(list(range(len(todaywords)))) - set(toMantain))\n",
    "for i in iToChange:\n",
    "    rand=random.randint(0, len(IT)-1)\n",
    "    todayIndexs[i]=rand\n",
    "    todaywords[i]=IT[rand]\n",
    "for i in range(len(todaywords)):\n",
    "    print(\"parola\",i,\"  \",todaywords[i])"
   ]
  },
  {
   "cell_type": "code",
   "execution_count": 115,
   "metadata": {},
   "outputs": [
    {
     "name": "stdout",
     "output_type": "stream",
     "text": [
      "N'ESPONEVO \n",
      "   indice 71393 \tse dise:  \n",
      "\n",
      "VERCELLESE \n",
      "   indice 87031 \tse dise:  \n",
      "\n",
      "FALDISTORIO \n",
      "   indice 42048 \tse dise:  \n",
      "\n",
      "SCHIODANDO \n",
      "   indice 59102 \tse dise:  \n",
      "\n",
      "GALATTOSIO \n",
      "   indice 66447 \tse dise:  \n",
      "\n",
      "SOLITO \n",
      "   indice 8819 \tse dise:  \n",
      "\n",
      "INQUIETANTISSIMO \n",
      "   indice 38660 \tse dise:  \n",
      "\n",
      "TOPICIDA \n",
      "   indice 63011 \tse dise:  \n",
      "\n",
      "RIBELLISTA \n",
      "   indice 59308 \tse dise:  \n",
      "\n",
      "MARINONE \n",
      "   indice 90977 \tse dise:  \n",
      "\n"
     ]
    }
   ],
   "source": [
    "meaning=['' for t in todaywords]\n",
    "if len(meaning)!=len(todaywords):\n",
    "    raise Exception\n",
    "for i in range(len(todaywords)):\n",
    "    print(todaywords[i].upper(),'\\n   indice',todayIndexs[i],\"\\tse dise:\",meaning[i].upper(),'\\n')"
   ]
  },
  {
   "cell_type": "code",
   "execution_count": 116,
   "metadata": {},
   "outputs": [],
   "source": [
    "for i in todayIndexs:\n",
    "    for j in range(len(todaywords)):\n",
    "        if todayIndexs[j]==i:\n",
    "            PG[i]=meaning[j]\n",
    "ITPGtoday={}\n",
    "for i in range(len(PG)):\n",
    "    if PG[i]!='':\n",
    "        ITPGtoday[IT[i]]=PG[i]"
   ]
  },
  {
   "cell_type": "code",
   "execution_count": 117,
   "metadata": {},
   "outputs": [],
   "source": [
    "ITPG.update(ITPGtoday)"
   ]
  },
  {
   "cell_type": "code",
   "execution_count": 118,
   "metadata": {},
   "outputs": [
    {
     "data": {
      "text/plain": [
       "[]"
      ]
     },
     "execution_count": 118,
     "metadata": {},
     "output_type": "execute_result"
    }
   ],
   "source": [
    "PGlemmi"
   ]
  },
  {
   "cell_type": "code",
   "execution_count": 119,
   "metadata": {},
   "outputs": [
    {
     "data": {
      "text/plain": [
       "{}"
      ]
     },
     "execution_count": 119,
     "metadata": {},
     "output_type": "execute_result"
    }
   ],
   "source": [
    "ITPG"
   ]
  },
  {
   "cell_type": "code",
   "execution_count": 120,
   "metadata": {},
   "outputs": [],
   "source": [
    "\n",
    "# Ordina le chiavi in ordine alfabetico\n",
    "chiavi_ordinate = sorted(ITPG.keys())\n",
    "\n",
    "# Apre un file per la scrittura\n",
    "with open('italiano-pignasco.txt', 'w') as file:\n",
    "    # Itera attraverso le chiavi ordinate\n",
    "    for chiave in chiavi_ordinate:\n",
    "        valore = ITPG[chiave]  # Ottieni il valore associato alla chiave\n",
    "        riga = f'{chiave} | {valore}\\n'  # Crea la riga da scrivere nel file\n",
    "        file.write(riga)  # Scrivi la riga nel file\n",
    "\n",
    "# Ora il file 'output.txt' conterrà le chiavi ordinate e i rispettivi valori"
   ]
  }
 ],
 "metadata": {
  "kernelspec": {
   "display_name": "venv",
   "language": "python",
   "name": "python3"
  },
  "language_info": {
   "codemirror_mode": {
    "name": "ipython",
    "version": 3
   },
   "file_extension": ".py",
   "mimetype": "text/x-python",
   "name": "python",
   "nbconvert_exporter": "python",
   "pygments_lexer": "ipython3",
   "version": "3.12.7"
  },
  "orig_nbformat": 4
 },
 "nbformat": 4,
 "nbformat_minor": 2
}
